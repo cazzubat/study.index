{
  "cells": [
    {
      "cell_type": "markdown",
      "source": [
        "# 📚 **Projeto Django: Sistema de Biblioteca**\n",
        "\n",
        "Uma aplicação Django para gerenciar uma biblioteca simples, começando com o gerenciamento de usuários.\n",
        "\n",
        "-----\n",
        "\n",
        "## 🔗 **Links Úteis**\n",
        "\n",
        "Explore o código e a estrutura inicial do projeto nos links abaixo:\n",
        "\n",
        "  * 🐙 **GitHub:** [Repositório com o código fonte completo](https://github.com/thiagooshiro/school-system-backend)\n",
        "  * ☁️ **Google Drive:** [Estrutura inicial (até o app `accounts`)](https://www.google.com/search?q=%5Bhttps://drive.google.com/drive/folders/1CXKtg6SBcZGcR2TnGAVg6Wf4aZn3LmhR%3Fusp%3Dsharing%5D\\(https://drive.google.com/drive/folders/1CXKtg6SBcZGcR2TnGAVg6Wf4aZn3LmhR%3Fusp%3Dsharing\\))\n",
        "\n",
        "-----\n",
        "\n",
        "## 🚀 **Guia de Instalação e Configuração Inicial**\n",
        "\n",
        "Siga estes passos para colocar o projeto para rodar no seu ambiente local:\n",
        "\n",
        "> ⚙️ Este guia cobre a criação do ambiente virtual, instalação do Django e a configuração inicial do projeto e do app `accounts`.\n",
        "\n",
        "```bash\n",
        "# 1. Crie a pasta principal para o seu projeto\n",
        "mkdir nome_da_pasta\n",
        "\n",
        "# 2. Navegue até a pasta recém-criada\n",
        "cd nome_da_pasta\n",
        "\n",
        "# 3. Crie um ambiente virtual isolado chamado '.venv'\n",
        "python3 -m venv .venv\n",
        "\n",
        "# 4. Ative o ambiente virtual (Linux/macOS)\n",
        "# (No Windows, use: .venv\\Scripts\\activate)\n",
        "source .venv/bin/activate\n",
        "\n",
        "# 5. Instale o framework Django dentro do ambiente virtual\n",
        "pip install django\n",
        "\n",
        "# 6. Crie a estrutura base do projeto Django\n",
        "django-admin startproject library_system .  # O ponto '.' cria no diretório atual\n",
        "\n",
        "# 7. Crie o aplicativo 'accounts' que cuidará dos usuários\n",
        "python3 manage.py startapp accounts\n",
        "\n",
        "# 8. Gere as migrações (instruções para o banco) e aplique-as para criar as tabelas\n",
        "python manage.py makemigrations && python manage.py migrate\n",
        "```\n",
        "\n",
        "-----\n",
        "\n",
        "## 📂 **Arquitetura do Projeto: Peças Chave**\n",
        "\n",
        "Vamos dar uma olhada nos arquivos essenciais que compõem a funcionalidade inicial do app `accounts`:\n",
        "\n",
        "### 1️⃣ `models.py` (em `accounts`)\n",
        "\n",
        "💾 **Definição do Modelo de Usuário:**\n",
        "\n",
        "Este arquivo define a estrutura da nossa tabela de usuários no banco de dados. O modelo `Usuario` possui os campos essenciais:\n",
        "\n",
        "  * `nome`: Para o nome do usuário (texto, até 255 caracteres).\n",
        "  * `email`: Para o email (único) do usuário, garantindo que não haja duplicatas.\n",
        "\n",
        "<!-- end list -->"
      ],
      "metadata": {
        "id": "pfcKG1NP29GV"
      }
    },
    {
      "cell_type": "code",
      "source": [
        "# accounts/models.py\n",
        "from django.db import models\n",
        "\n",
        "class Usuario(models.Model):\n",
        "    nome = models.CharField(max_length=255)\n",
        "    email = models.EmailField(unique=True)\n",
        "\n",
        "    def __str__(self): # Boa prática: representação em string do objeto\n",
        "        return self.nome"
      ],
      "outputs": [],
      "execution_count": null,
      "metadata": {
        "id": "7ce6ZtM529Ga"
      }
    },
    {
      "cell_type": "markdown",
      "source": [
        "-----\n",
        "\n",
        "### 2️⃣ `views.py` (em `accounts`)\n",
        "\n",
        "🧠 **Lógica de Negócio e Respostas:**\n",
        "\n",
        "Aqui ficam as funções (views) que processam as requisições HTTP e interagem com o modelo `Usuario`. Implementamos as operações básicas de **CRUD** (Create, Read, Update, Delete):"
      ],
      "metadata": {
        "id": "7AbhVQXb29Gb"
      }
    },
    {
      "cell_type": "code",
      "source": [
        "# accounts/views.py\n",
        "from django.http import JsonResponse\n",
        "from django.views.decorators.csrf import csrf_exempt # Para simplificar chamadas de API\n",
        "from .models import Usuario\n",
        "import json\n",
        "\n",
        "@csrf_exempt\n",
        "def listar_usuarios(request):\n",
        "    # 📋 Retorna uma lista de todos os usuários em formato JSON.\n",
        "    # (Implementação da busca no banco e serialização omitida para brevidade)\n",
        "    pass # Substitua pelo código real\n",
        "\n",
        "@csrf_exempt\n",
        "def detalhar_usuario(request, id):\n",
        "    # 👤 Retorna os detalhes de um usuário específico, buscando pelo seu ID.\n",
        "    # (Implementação da busca por ID omitida)\n",
        "    pass # Substitua pelo código real\n",
        "\n",
        "@csrf_exempt\n",
        "def criar_usuario(request):\n",
        "    # ✨ Cria um novo usuário, validando nome e email recebidos via POST.\n",
        "    # (Implementação da validação e criação omitida)\n",
        "    pass # Substitua pelo código real\n",
        "\n",
        "@csrf_exempt\n",
        "def atualizar_usuario(request, id):\n",
        "    # ✏️ Atualiza as informações (nome/email) de um usuário existente (PUT/PATCH).\n",
        "    # (Implementação da busca por ID e atualização omitida)\n",
        "    pass # Substitua pelo código real\n",
        "\n",
        "@csrf_exempt\n",
        "def deletar_usuario(request, id):\n",
        "    # 🗑️ Remove um usuário do banco de dados permanentemente (DELETE).\n",
        "    # (Implementação da busca por ID e deleção omitida)\n",
        "    pass # Substitua pelo código real"
      ],
      "outputs": [],
      "execution_count": null,
      "metadata": {
        "id": "d5JBDqOA29Gc"
      }
    },
    {
      "cell_type": "markdown",
      "source": [
        "> **Nota Importante:** Todas as views utilizam `JsonResponse` para retornar dados em formato JSON, ideal para APIs. O decorador `@csrf_exempt` é usado aqui para simplificar as chamadas de API durante o desenvolvimento (em produção, use mecanismos de proteção CSRF adequados).\n",
        "\n",
        "-----\n",
        "\n",
        "### 3️⃣ `urls.py` (em `accounts`)\n",
        "\n",
        "🗺️ **Mapeamento de Rotas do App:**\n",
        "\n",
        "Este arquivo define as rotas (URLs) específicas do app `accounts`. Ele conecta cada URL a uma view correspondente em `views.py`, permitindo que o Django saiba qual função executar para cada requisição direcionada a `/api/usuarios/...`."
      ],
      "metadata": {
        "id": "OtqM0BQd29Gc"
      }
    },
    {
      "cell_type": "code",
      "source": [
        "# accounts/urls.py\n",
        "from django.urls import path\n",
        "from .views import (\n",
        "    listar_usuarios,\n",
        "    detalhar_usuario,\n",
        "    criar_usuario,\n",
        "    atualizar_usuario,\n",
        "    deletar_usuario\n",
        ")\n",
        "\n",
        "urlpatterns = [\n",
        "    # Rota para listar todos os usuários (GET) e criar um novo (POST)\n",
        "    path('usuarios/', listar_usuarios, name='listar_usuarios'), # Exemplo com GET\n",
        "    path('usuarios/criar/', criar_usuario, name='criar_usuario'), # Exemplo com POST\n",
        "\n",
        "    # Rotas para operações em um usuário específico (usando ID)\n",
        "    path('usuarios/<int:id>/', detalhar_usuario, name='detalhar_usuario'),     # GET\n",
        "    path('usuarios/<int:id>/atualizar/', atualizar_usuario, name='atualizar_usuario'), # PUT/PATCH\n",
        "    path('usuarios/<int:id>/deletar/', deletar_usuario, name='deletar_usuario'),     # DELETE\n",
        "]"
      ],
      "outputs": [],
      "execution_count": null,
      "metadata": {
        "id": "H1jEXqYP29Gd"
      }
    },
    {
      "cell_type": "markdown",
      "source": [
        "-----\n",
        "\n",
        "### 4️⃣ `urls.py` (em `library_system`)\n",
        "\n",
        "🚦 **Configuração Principal de Rotas:**\n",
        "\n",
        "Este é o arquivo de URLs raiz do projeto Django (`library_system/urls.py`). Ele define as rotas principais, como o acesso ao painel administrativo (`/admin/`) e, crucialmente, **inclui** as rotas definidas no `accounts/urls.py` sob o prefixo `/api/`."
      ],
      "metadata": {
        "id": "adM5Nfe329Gd"
      }
    },
    {
      "cell_type": "code",
      "source": [
        "# library_system/urls.py\n",
        "from django.contrib import admin\n",
        "from django.urls import path, include # Importe 'include'\n",
        "\n",
        "urlpatterns = [\n",
        "    path('admin/', admin.site.urls),             # Rota para o painel administrativo padrão do Django\n",
        "    path('api/', include('accounts.urls')),       # Inclui todas as URLs do app 'accounts' sob o prefixo /api/\n",
        "                                                 # Ex: /api/usuarios/, /api/usuarios/1/, etc.\n",
        "]"
      ],
      "outputs": [],
      "execution_count": null,
      "metadata": {
        "id": "XDnGiBsN29Ge"
      }
    }
  ],
  "metadata": {
    "colab": {
      "provenance": []
    },
    "kernelspec": {
      "display_name": "Python 3",
      "name": "python3"
    }
  },
  "nbformat": 4,
  "nbformat_minor": 0
}