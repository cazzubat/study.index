{
 "cells": [
  {
   "cell_type": "markdown",
   "metadata": {},
   "source": [
    "# Introdução à Automação com IA"
   ]
  },
  {
   "cell_type": "markdown",
   "metadata": {},
   "source": [
    "## O que é automação e como a IA pode potencializá-la."
   ]
  },
  {
   "cell_type": "markdown",
   "metadata": {},
   "source": [
    "Imagine que você é dono de uma loja online e recebe dezenas de mensagens por dia perguntando sobre o prazo de entrega, disponibilidade de produtos e formas de pagamento. Responder a todas essas perguntas manualmente pode ser cansativo e demorado. Agora, imagine que você tenha um \"funcionário digital\" que trabalha 24 horas por dia, nunca tira férias e responde a essas perguntas automaticamente. Isso é automação com IA na prática.\n",
    "\n",
    "Automação com IA significa usar inteligência artificial para realizar tarefas que normalmente exigiriam esforço humano. Isso pode incluir responder mensagens, analisar dados, tomar decisões e até mesmo realizar ações repetitivas no computador. O objetivo principal é economizar tempo, reduzir erros e melhorar a produtividade."
   ]
  },
  {
   "cell_type": "markdown",
   "metadata": {},
   "source": [
    "![1](1.png.webp)"
   ]
  },
  {
   "cell_type": "markdown",
   "metadata": {},
   "source": [
    "## Exemplos práticos de automação com IA no dia a dia."
   ]
  },
  {
   "cell_type": "markdown",
   "metadata": {},
   "source": [
    "\n",
    "\n",
    "Empresas no mundo todo estão usando automação com IA para transformar a maneira como trabalham. Veja alguns exemplos reais:\n",
    "\n",
    "- Netflix: Quando você assiste a um filme ou série, a IA analisa seus gostos e recomenda o que você pode gostar de assistir em seguida. Isso é uma forma de automação inteligente, porque a plataforma faz um trabalho que seria impossível para um humano: analisar os dados de milhões de usuários em tempo real.\n",
    "\n",
    "\n",
    "\n",
    "- Atendimento ao cliente: Empresas como Nubank e iFood usam chatbots para atender clientes rapidamente, sem a necessidade de intervenção humana. Se você já falou com um \"atendente virtual\", provavelmente interagiu com uma automação baseada em IA.\n",
    "\n",
    "- Indústrias e fábricas: Robôs inteligentes montam carros em linhas de produção com precisão. Eles também usam sensores e IA para detectar defeitos antes que o produto final chegue ao consumidor.\n",
    "\n",
    "Agora pense: quantas tarefas repetitivas ou demoradas você realiza no seu dia? E se você pudesse delegar essas tarefas para um sistema que faz tudo isso por você? Essa é a mágica da automação com IA!\n",
    "\n",
    "\n"
   ]
  },
  {
   "cell_type": "markdown",
   "metadata": {},
   "source": [
    "### Como a automação com IA funciona?"
   ]
  },
  {
   "cell_type": "markdown",
   "metadata": {},
   "source": [
    "Vamos simplificar com uma analogia: imagine que a IA é como um \"chefe inteligente\" e a automação é o \"time de trabalhadores\". O chefe (IA) toma decisões com base em dados, enquanto o time (automação) executa as tarefas repetitivas com precisão.\n",
    "\n",
    "Por exemplo, no caso de um chatbot:\n",
    "\n",
    "A IA interpreta a pergunta do cliente, como “Qual o horário de funcionamento?”.\n",
    "A automação busca no banco de dados a resposta correta.\n",
    "O chatbot responde automaticamente ao cliente.\n",
    "Essa combinação permite que máquinas entendam, decidam e ajam.\n"
   ]
  },
  {
   "cell_type": "markdown",
   "metadata": {},
   "source": [
    "###  Automação com IA no dia a dia"
   ]
  },
  {
   "cell_type": "markdown",
   "metadata": {},
   "source": [
    "Pense em um supermercado que usa IA para prever o estoque de produtos. A IA analisa o histórico de vendas e percebe que sempre antes de feriados, as vendas de carne aumentam. O sistema automatizado avisa o gerente para comprar mais carne com antecedência. Com isso:\n",
    "\n",
    "- O supermercado não perde vendas por falta de estoque.\n",
    "\n",
    "- O gerente economiza tempo porque não precisa analisar os dados manualmente.\n",
    "\n",
    "Agora, traga isso para a sua vida:\n",
    "\n",
    "- O seu e-mail pode filtrar automaticamente mensagens importantes.\n",
    "- Um bot pode responder mensagens no WhatsApp por você enquanto você dorme.\n",
    "- Sistemas como Alexa ou Google Assistente automatizam rotinas, como apagar as luzes ou ajustar o despertador.\n"
   ]
  },
  {
   "cell_type": "markdown",
   "metadata": {},
   "source": [
    "## Visão geral de ferramentas utilizadas (Python, OpenAI, RPA, NLP)."
   ]
  },
  {
   "cell_type": "markdown",
   "metadata": {},
   "source": [
    "- Python: A linguagem principal para automação e IA, devido à sua simplicidade e vasto ecossistema.\n",
    "\n",
    "- OpenAI: Modelos de linguagem, como ChatGPT, para responder perguntas, gerar textos e mais.\n",
    "\n",
    "- RPA (Robotic Process Automation): Ferramentas como UiPath e PyAutoGUI para tarefas repetitivas.\n",
    "\n",
    "- NLP (Processamento de Linguagem Natural): Modelos como GPT e BERT para interpretar e responder a texto."
   ]
  },
  {
   "cell_type": "markdown",
   "metadata": {},
   "source": [
    "## Configuração do ambiente de desenvolvimento (Python, VSCode, Google Colab)."
   ]
  },
  {
   "cell_type": "markdown",
   "metadata": {},
   "source": [
    "#### Instalar Python\n",
    "\n",
    "1. Baixar o Instalador do Python:\n",
    "\n",
    "- Acesse o site oficial do Python: https://www.python.org/downloads/.\n",
    "- Clique em Download Python [versão mais recente].\n",
    "\n",
    "2. Executar o Instalador:\n",
    "\n",
    "- Execute o arquivo baixado (python-xxx.exe).\n",
    "- Marque a opção: \"Add Python to PATH\" (muito importante).\n",
    "- Clique em Install Now para iniciar a instalação.\n",
    "\n"
   ]
  },
  {
   "cell_type": "markdown",
   "metadata": {},
   "source": [
    "#### Instalar o VS Code\n",
    "\n",
    "1. Baixar o Visual Studio Code:\n",
    "\n",
    "- Acesse o site oficial: https://code.visualstudio.com/.\n",
    "- Clique em Download for Windows.\n",
    "- Instalar o VS Code:\n",
    "\n",
    "2. Execute o instalador baixado.\n",
    "\n",
    "- Na tela de instalação, marque as opções:\n",
    "- \"Add to PATH\".\n",
    "- \"Register Code as an editor for supported file types\".\n",
    "- Clique em Next e conclua a instalação.\n",
    "- Abrir o VS Code:\n",
    "\n",
    "\n"
   ]
  },
  {
   "cell_type": "markdown",
   "metadata": {},
   "source": [
    "#### Configurar o Python no VS Code\n",
    "\n",
    "1. Instalar a Extensão Python:\n",
    "\n",
    "- No VS Code, clique no ícone de extensões (barra lateral esquerda ou Ctrl + Shift + X).\n",
    "- Pesquise por \"Python\" e clique em Install na extensão oficial da Microsoft.\n",
    "\n",
    "2. Selecionar o Interprete Python:\n",
    "\n",
    "- Abra qualquer arquivo .py ou pressione Ctrl + Shift + P para abrir a barra de comandos.\n",
    "- Digite e selecione \"Python: Select Interpreter\".\n",
    "- Escolha a versão do Python instalada.\n",
    "\n",
    "3. Testar a Configuração:\n",
    "\n",
    "```python\n",
    "print(\"Olá, mundo!\")\n",
    "```\n",
    "\n"
   ]
  },
  {
   "cell_type": "markdown",
   "metadata": {},
   "source": [
    "####  Instalar a Extensão do Jupyter no VS Code:\n",
    "\n",
    "- Abra o VS Code.\n",
    "- Acesse as Extensões:\n",
    "- Clique no ícone de Extensões na barra lateral esquerda (ou pressione Ctrl + Shift + X).\n",
    "- Pesquise pela Extensão \"Jupyter\":\n",
    "- Na barra de pesquisa, digite \"Jupyter\".\n",
    "- Localize a extensão Jupyter (oficial, desenvolvida pela Microsoft).\n",
    "- Instale a Extensão:\n",
    "- Clique em Install."
   ]
  }
 ],
 "metadata": {
  "language_info": {
   "name": "python"
  }
 },
 "nbformat": 4,
 "nbformat_minor": 2
}
