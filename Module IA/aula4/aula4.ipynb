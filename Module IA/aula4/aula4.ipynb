{
 "cells": [
  {
   "cell_type": "markdown",
   "metadata": {},
   "source": [
    "# Processamento de Linguagem Natural (NLP) para Automação"
   ]
  },
  {
   "cell_type": "markdown",
   "metadata": {},
   "source": [
    "## 📌 O que é NLP e por que é importante? \n",
    "\n",
    "🧠 NLP (Processamento de Linguagem Natural)\n",
    "\n",
    "é um campo da Inteligência Artificial que ensina máquinas a entender, interpretar, gerar e responder a linguagem humana.\n",
    "\n",
    "Basicamente, NLP ajuda computadores a lerem textos, entenderem falas e responderem de forma inteligente. 📖🗣️💡\n",
    "\n",
    "\n",
    "## 📌 Onde o NLP é usado?\n",
    "\n",
    "💬 Chatbots e assistentes virtuais → Como eu! 😃 (ChatGPT, Siri, Alexa...)\n",
    "🔍 Motores de busca → Google entende sua pergunta e busca a melhor resposta.\n",
    "📧 Detecção de spam → Gmail identifica se um e-mail é spam ou importante.\n",
    "🗣️ Transcrição de áudio → YouTube gera legendas automáticas para vídeos.\n",
    "📰 Análise de sentimentos → Empresas usam NLP para saber se um comentário é positivo ou negativo.\n",
    "📖 Tradução automática → Google Tradutor usa NLP para converter textos entre idiomas.\n",
    "\n",
    "\n"
   ]
  },
  {
   "cell_type": "markdown",
   "metadata": {},
   "source": [
    "## 📌 Como funciona o NLP?\n",
    "\n",
    "NLP combina linguística com Machine Learning para entender o significado de palavras e frases.\n",
    "\n",
    "### 🛠 Principais técnicas: \n",
    "\n",
    "1. Tokenização → Quebra um texto em palavras ou frases.\n",
    "\n",
    "- \"Eu gosto de pizza\" → [\"Eu\", \"gosto\", \"de\", \"pizza\"]\n",
    "\n",
    "2. Lematização e Stemming → Reduz palavras à sua forma base.\n",
    "\n",
    "- \"correndo\", \"correu\", \"corre\" → \"correr\"\n",
    "\n",
    "3. Remoção de Stop Words → Remove palavras comuns como \"o\", \"de\", \"e\".\n",
    "\n",
    "- Texto original: \"Eu gosto de estudar\"\n",
    "- Depois: [\"gosto\", \"estudar\"]\n",
    "\n",
    "4. Análise de Sentimentos → Descobre se um texto é positivo, neutro ou negativo.\n",
    "\n",
    "- \"Esse produto é horrível!\" → Sentimento negativo 😡\n",
    "\n",
    "5. Reconhecimento de Entidades Nomeadas (NER) → Identifica nomes, lugares, datas.\n",
    "\n",
    "- \"Elon Musk fundou a Tesla em 2003\" → [\"Elon Musk\" (Pessoa), \"Tesla\" (Empresa), \"2003\" (Data)]\n",
    "\n",
    "\n",
    "\n"
   ]
  },
  {
   "cell_type": "markdown",
   "metadata": {},
   "source": [
    "Ferramentas e Bibliotecas para NLP\n",
    "\n",
    "- NLTK (Natural Language Toolkit) → Biblioteca básica para NLP.\n",
    "- spaCy → Biblioteca mais avançada para NLP.\n",
    "- Transformers da Hugging Face → Modelos pré-treinados para NLP.\n",
    "- TextBlob → Fácil para tarefas básicas como análise de sentimentos.\n",
    "\n",
    "\n",
    "```bash\n",
    "pip install nltk spacy\n",
    "```\n",
    "\n",
    "\n",
    "\n",
    "\n"
   ]
  },
  {
   "cell_type": "markdown",
   "metadata": {},
   "source": [
    "#### Tokenização e Limpeza de Texto\n",
    "\n",
    "📌 Objetivo: Dividir frases em palavras e remover elementos desnecessários.\n"
   ]
  },
  {
   "cell_type": "code",
   "execution_count": 5,
   "metadata": {},
   "outputs": [
    {
     "name": "stdout",
     "output_type": "stream",
     "text": [
      "Texto original: O atendimento foi muito bom, mas o produto demorou a chegar!\n",
      "Tokens filtrados: ['atendimento', 'bom', ',', 'produto', 'demorou', 'chegar', '!']\n"
     ]
    },
    {
     "name": "stderr",
     "output_type": "stream",
     "text": [
      "[nltk_data] Downloading package punkt_tab to\n",
      "[nltk_data]     C:\\Users\\cauar\\AppData\\Roaming\\nltk_data...\n",
      "[nltk_data]   Package punkt_tab is already up-to-date!\n",
      "[nltk_data] Downloading package punkt to\n",
      "[nltk_data]     C:\\Users\\cauar\\AppData\\Roaming\\nltk_data...\n",
      "[nltk_data]   Package punkt is already up-to-date!\n",
      "[nltk_data] Downloading package stopwords to\n",
      "[nltk_data]     C:\\Users\\cauar\\AppData\\Roaming\\nltk_data...\n",
      "[nltk_data]   Package stopwords is already up-to-date!\n"
     ]
    }
   ],
   "source": [
    "import nltk\n",
    "from nltk.tokenize import word_tokenize\n",
    "from nltk.corpus import stopwords\n",
    "\n",
    "# Baixando dados necessários do NLTK\n",
    "nltk.download('punkt_tab')\n",
    "nltk.download(\"punkt\")\n",
    "nltk.download(\"stopwords\")\n",
    "\n",
    "# Exemplo de texto\n",
    "texto = \"O atendimento foi muito bom, mas o produto demorou a chegar!\"\n",
    "\n",
    "# Tokenização: Divide a frase em palavras\n",
    "tokens = word_tokenize(texto)\n",
    "\n",
    "# Remover palavras irrelevantes (stopwords)\n",
    "stopwords_portugues = set(stopwords.words(\"portuguese\"))\n",
    "tokens_filtrados = [palavra for palavra in tokens if palavra.lower() not in stopwords_portugues]\n",
    "\n",
    "print(\"Texto original:\", texto)\n",
    "print(\"Tokens filtrados:\", tokens_filtrados)"
   ]
  },
  {
   "cell_type": "markdown",
   "metadata": {},
   "source": [
    "\n",
    "✅ Explicação do Código:\n",
    "\n",
    "word_tokenize() → Divide frases em palavras.\n",
    "stopwords.words(\"portuguese\") → Remove palavras irrelevantes (ex: \"o\", \"a\", \"de\").,\n",
    "\n",
    "AGORA É COM VOCÊ!\n",
    "Testem outros textos e verem como o NLP os processa."
   ]
  },
  {
   "cell_type": "markdown",
   "metadata": {},
   "source": [
    "### Gerando Respostas Inteligentes\n",
    "\n",
    "📌 Objetivo: Criar um sistema que responde perguntas automaticamente.\n",
    "\n"
   ]
  },
  {
   "cell_type": "code",
   "execution_count": null,
   "metadata": {},
   "outputs": [],
   "source": [
    "import random\n",
    "\n",
    "# Banco de dados simples para respostas\n",
    "respostas = {\n",
    "    \"oi\": [\"Olá! Como posso ajudar?\", \"Oi! Tudo bem?\", \"Olá!\"],\n",
    "    \"qual seu nome?\": [\"Eu sou um chatbot de NLP!\", \"Me chamo Bot!\"],\n",
    "    \"como funciona o NLP?\": [\"NLP ajuda máquinas a entenderem texto!\", \"NLP significa Processamento de Linguagem Natural.\"],\n",
    "    \"tchau\": [\"Até logo!\", \"Tchau, tenha um bom dia!\"]\n",
    "}\n",
    "\n",
    "# Função para responder perguntas\n",
    "def chatbot(pergunta):\n",
    "    pergunta = pergunta.lower()\n",
    "    for chave in respostas.keys():\n",
    "        if chave.lower() in pergunta:\n",
    "            return random.choice(respostas[chave])\n",
    "    return \"Desculpe, não entendi.\"\n",
    "\n",
    "# Teste do chatbot\n",
    "print(\"Chatbot iniciado! Pergunte algo:\")\n",
    "while True:\n",
    "    pergunta = input(\"Você: \")\n",
    "    if pergunta.lower() == \"sair\":\n",
    "        print(\"Chatbot encerrado.\")\n",
    "        break\n",
    "    resposta = chatbot(pergunta)\n",
    "    print(\"Bot:\", resposta)\n"
   ]
  },
  {
   "cell_type": "markdown",
   "metadata": {},
   "source": [
    "✅ Explicação do Código:\n",
    "\n",
    "Dicionário respostas → Contém possíveis respostas para perguntas comuns.\n",
    "Loop infinito → Permite conversar com o chatbot no terminal.\n",
    "Comando \"sair\" → Encerra a conversa.\n",
    "📌 Atividade: Peça aos alunos para adicionarem novas perguntas e respostas ao chatbot."
   ]
  },
  {
   "cell_type": "markdown",
   "metadata": {},
   "source": [
    "#### Aplicações Práticas do NLP na Automação\n",
    "\n",
    "- Automação de atendimento ao cliente: Chatbots em sites e WhatsApp.\n",
    "- Leitura e extração de dados de documentos: NLP pode analisar contratos automaticamente.\n",
    "- Análise de mensagens de e-mail: Identificação de e-mails urgentes.\n",
    "\n",
    "\n",
    "📌 Resumo da Aula\n",
    "✔️ NLP permite que máquinas entendam e processem textos.\n",
    "✔️ Exploramos ferramentas como NLTK, spaCy e TextBlob.\n",
    "✔️ Criamos um chatbot simples e um classificador de sentimentos.\n"
   ]
  }
 ],
 "metadata": {
  "kernelspec": {
   "display_name": "Python 3",
   "language": "python",
   "name": "python3"
  },
  "language_info": {
   "codemirror_mode": {
    "name": "ipython",
    "version": 3
   },
   "file_extension": ".py",
   "mimetype": "text/x-python",
   "name": "python",
   "nbconvert_exporter": "python",
   "pygments_lexer": "ipython3",
   "version": "3.10.0"
  }
 },
 "nbformat": 4,
 "nbformat_minor": 2
}
