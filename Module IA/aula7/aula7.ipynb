{
 "cells": [
  {
   "cell_type": "markdown",
   "metadata": {},
   "source": [
    "# Aprofundando o RAG: Base de Conhecimento e Banco Vetorial"
   ]
  },
  {
   "cell_type": "markdown",
   "metadata": {},
   "source": [
    "## ✅ 1. Revisão Rápida do RAG com LangChain\n",
    "\n",
    "#### O que é um RAG?\n",
    "\n",
    "RAG = Retrieval-Augmented Generation\n",
    "\n",
    "Ele busca informações relevantes antes de gerar a resposta.\n",
    "\n",
    "Usa LLM + banco de vetores.\n",
    "\n",
    "#### Como funciona na prática:\n",
    "\n",
    "O usuário envia uma pergunta.\n",
    "\n",
    "A pergunta é vetorizada.\n",
    "\n",
    "O sistema busca vetores semelhantes na base.\n",
    "\n",
    "As informações encontradas são repassadas para a LLM, que responde com contexto.\n",
    "\n",
    "#### Componentes principais:\n",
    "\n",
    "Embeddings (vetorização): convertem texto em vetores numéricos.\n",
    "\n",
    "Vector Store (FAISS): armazena e busca os vetores.\n",
    "\n",
    "Retriever + LLM: fazem a mágica acontecer.\n",
    "\n"
   ]
  },
  {
   "cell_type": "code",
   "execution_count": 3,
   "metadata": {},
   "outputs": [
    {
     "name": "stderr",
     "output_type": "stream",
     "text": [
      "C:\\Users\\Eric\\AppData\\Local\\Temp\\ipykernel_9060\\4192725594.py:13: LangChainDeprecationWarning: The class `OllamaEmbeddings` was deprecated in LangChain 0.3.1 and will be removed in 1.0.0. An updated version of the class exists in the :class:`~langchain-ollama package and should be used instead. To use it run `pip install -U :class:`~langchain-ollama` and import as `from :class:`~langchain_ollama import OllamaEmbeddings``.\n",
      "  embedding_function = OllamaEmbeddings(model=\"mistral\")\n"
     ]
    }
   ],
   "source": [
    "# EXEMPLO\n",
    "from langchain.vectorstores import FAISS\n",
    "from langchain.embeddings import OllamaEmbeddings\n",
    "from langchain.docstore.document import Document\n",
    "\n",
    "# Base de conhecimento\n",
    "documentos = [\n",
    "    Document(page_content=\"Nosso suporte funciona das 9h às 18h, de segunda a sexta.\"),\n",
    "    Document(page_content=\"O prazo de reembolso é de até 7 dias úteis.\"),\n",
    "]\n",
    "\n",
    "# Vetorização\n",
    "embedding_function = OllamaEmbeddings(model=\"mistral\")\n",
    "vectorstore = FAISS.from_documents(documentos, embedding_function)\n"
   ]
  },
  {
   "cell_type": "markdown",
   "metadata": {},
   "source": [
    "## 📌 2. Vetorizando Documentos Reais\n",
    "\n",
    "### Fontes de dados que podem ser usados:\n",
    "\n",
    "- Textos soltos em Python.\n",
    "\n",
    "- PDFs.\n",
    "\n",
    "- Arquivos .txt, .csv, .md.\n",
    "\n",
    "- FAQs e políticas da empresa."
   ]
  },
  {
   "cell_type": "markdown",
   "metadata": {},
   "source": [
    "#### Exemplo 1: Vetorizando textos simples\n",
    "\n",
    "\n"
   ]
  },
  {
   "cell_type": "code",
   "execution_count": null,
   "metadata": {},
   "outputs": [],
   "source": [
    "from langchain.text_splitter import CharacterTextSplitter\n",
    "from langchain.embeddings import OllamaEmbeddings\n",
    "\n",
    "textos = \"\"\"\n",
    "A loja funciona de segunda a sexta-feira, das 8h às 17h.\n",
    "Para trocas ou devoluções, é necessário entrar em contato em até 7 dias.\n",
    "\"\"\".strip()\n",
    "\n",
    "# Quebrar o texto em blocos\n",
    "splitter = CharacterTextSplitter(separator=\"\\n\", chunk_size=100, chunk_overlap=20)\n",
    "blocos = splitter.create_documents([textos])\n",
    "\n",
    "# Vetorizando\n",
    "vectorstore = FAISS.from_documents(blocos, OllamaEmbeddings(model=\"mistral\"))\n"
   ]
  },
  {
   "cell_type": "markdown",
   "metadata": {},
   "source": [
    "#### Exemplo 2: Vetorizando um arquivo .txt ou .pdf\n",
    "\n"
   ]
  },
  {
   "cell_type": "code",
   "execution_count": null,
   "metadata": {},
   "outputs": [],
   "source": [
    "from langchain.document_loaders import TextLoader, PyPDFLoader\n",
    "from langchain.embeddings import OllamaEmbeddings\n",
    "\n",
    "# Carregar texto ou PDF\n",
    "loader = TextLoader(\"documentos/politicas.txt\")  # ou PyPDFLoader(\"documentos/manual.pdf\")\n",
    "documentos = loader.load()\n",
    "\n",
    "# Dividir e vetorizar\n",
    "blocos = splitter.split_documents(documentos)\n",
    "vectorstore = FAISS.from_documents(blocos, OllamaEmbeddings(model=\"mistral\"))\n"
   ]
  },
  {
   "cell_type": "markdown",
   "metadata": {},
   "source": [
    "✅ Agora temos uma base de conhecimento vetorizada a partir de arquivos reais.\n"
   ]
  },
  {
   "cell_type": "markdown",
   "metadata": {},
   "source": [
    "## 📌 3. Buscando informações na base de vetores\n",
    "\n"
   ]
  },
  {
   "cell_type": "code",
   "execution_count": 7,
   "metadata": {},
   "outputs": [
    {
     "name": "stdout",
     "output_type": "stream",
     "text": [
      "A loja funciona de segunda a sexta-feira, das 8h às 17h.\n",
      "Para trocas ou devoluções, é necessário entrar em contato em até 7 dias.\n"
     ]
    }
   ],
   "source": [
    "# Pergunta do usuário\n",
    "pergunta = \"Qual o horário de atendimento?\"\n",
    "\n",
    "# Transformar a pergunta em vetor e buscar similaridade\n",
    "docs_relevantes = vectorstore.similarity_search(pergunta)\n",
    "\n",
    "for doc in docs_relevantes:\n",
    "    print(doc.page_content)\n"
   ]
  },
  {
   "cell_type": "markdown",
   "metadata": {},
   "source": [
    "## 📌 Tecnologias para Armazenamento Vetorial (Banco de Dados de Vetores)"
   ]
  },
  {
   "cell_type": "markdown",
   "metadata": {},
   "source": [
    "### ✅ O que é um Banco Vetorial?\n",
    "\n",
    "É um sistema de armazenamento e recuperação que, em vez de fazer buscas por igualdade (=, LIKE), usa distância entre vetores para encontrar os itens mais semelhantes a um texto, imagem ou outro vetor.\n",
    "\n",
    "🧠 Útil em:\n",
    "\n",
    "- RAG (LangChain, LlamaIndex).\n",
    "\n",
    "- Busca semântica.\n",
    "\n",
    "- Recomendação de conteúdo.\n",
    "\n",
    "- Sistemas de IA que precisam entender o \"significado\" de algo.\n",
    "\n"
   ]
  },
  {
   "cell_type": "markdown",
   "metadata": {},
   "source": [
    "### 🧩 1. FAISS (Facebook AI Similarity Search)\n",
    "\n",
    "- 💡 Tipo: Biblioteca local para busca vetorial rápida.\n",
    "\n",
    "- 💻 Armazenamento: Em memória ou persistência simples (via pickle).\n",
    "\n",
    "- 🏃‍♀️ Velocidade: Extremamente rápido para uso local.\n",
    "\n",
    "- ❌ Não possui interface tipo SQL nativa.\n",
    "\n",
    "- ✅ Ideal para: protótipos locais, projetos de pequeno/médio porte.\n",
    "\n",
    "📦 Suportado por: LangChain, LlamaIndex, Haystack"
   ]
  },
  {
   "cell_type": "code",
   "execution_count": null,
   "metadata": {},
   "outputs": [],
   "source": [
    "from langchain.vectorstores import FAISS\n",
    "vectorstore = FAISS.from_documents(docs, OllamaEmbeddings(model=\"mistral\"))\n"
   ]
  },
  {
   "cell_type": "markdown",
   "metadata": {},
   "source": [
    "### 🧩 2. ChromaDB\n",
    "\n",
    "- 💡 Tipo: Banco vetorial open-source, com API local e persistência em disco.\n",
    "\n",
    "- 📦 Armazena vetores + metadados estruturados (como um SQL simplificado).\n",
    "\n",
    "- 🧠 Suporta filtros por metadados!\n",
    "\n",
    "- 🌐 Pode ser usado como servidor ou localmente.\n",
    "\n",
    "- ✅ Ideal para: projetos persistentes, com múltiplos usuários e filtros.\n",
    "\n",
    "📦 Suportado por: LangChain, LlamaIndex\n"
   ]
  },
  {
   "cell_type": "code",
   "execution_count": null,
   "metadata": {},
   "outputs": [],
   "source": [
    "from langchain.vectorstores import Chroma\n",
    "vectorstore = Chroma.from_documents(docs, OllamaEmbeddings(model=\"mistral\"), persist_directory=\"./db\")\n"
   ]
  },
  {
   "cell_type": "markdown",
   "metadata": {},
   "source": [
    "### 🧩 3. Weaviate\n",
    "\n",
    "- 💡 Tipo: Banco de dados vetorial com estrutura semântica tipo GraphQL.\n",
    "\n",
    "- 🔍 Suporte a queries estruturadas (por texto e metadados).\n",
    "\n",
    "- 🧠 Usa filtros e contexto no estilo SQL + AI.\n",
    "\n",
    "- **🌐 Hospedável via Docker, Cloud ou API.\n",
    "\n",
    "- ✅ Ideal para: soluções corporativas, sistemas em produção com múltiplos tipos de dados.\n",
    "\n",
    "📦 Suportado por: LangChain, LlamaIndex, diretamente via SDK Python"
   ]
  },
  {
   "cell_type": "markdown",
   "metadata": {},
   "source": [
    "### 🧩 4. Pinecone\n",
    "\n",
    "- 💡 Tipo: SaaS (serviço em nuvem especializado em vetores).\n",
    "\n",
    "- 🌐 Rápido, escalável, com alta disponibilidade.\n",
    "\n",
    "- 📘 Interface parecida com banco de dados, mas voltado para similaridade.\n",
    "\n",
    "- 🧠 Suporta metadados e filtros.\n",
    "\n",
    "- 💰 Plano gratuito com limitações.\n",
    "\n",
    "📦 Suportado por: LangChain, LlamaIndex, OpenAI"
   ]
  },
  {
   "cell_type": "code",
   "execution_count": null,
   "metadata": {},
   "outputs": [],
   "source": [
    "import pinecone\n",
    "pinecone.init(api_key=\"SUA_CHAVE\", environment=\"us-west1-gcp\")\n",
    "index = pinecone.Index(\"meu_index\")\n"
   ]
  },
  {
   "cell_type": "markdown",
   "metadata": {},
   "source": [
    "### 🧩 5. Milvus\n",
    "\n",
    "- 💡 Tipo: Banco de dados vetorial open-source e altamente escalável.\n",
    "\n",
    "- 🔧 Suporte a estrutura tipo SQL via MilvusQL.\n",
    "\n",
    "- 📊 Pode armazenar bilhões de vetores com metadados.\n",
    "\n",
    "- ⚙️ Requer mais setup (Docker, container).\n",
    "\n",
    "📦 Suportado por: LangChain, Zilliz Cloud"
   ]
  },
  {
   "cell_type": "markdown",
   "metadata": {},
   "source": [
    "### 🧩 6. Qdrant\n",
    "\n",
    "- 💡 Tipo: Banco vetorial moderno, open-source e rápido.\n",
    "\n",
    "- 🧠 Excelente suporte a filtros por metadados.\n",
    "\n",
    "- 🌐 Acessível por API REST ou client Python.\n",
    "\n",
    "- ✅ Interface simples + persistência.\n",
    "\n",
    "📦 Suportado por: LangChain"
   ]
  },
  {
   "cell_type": "markdown",
   "metadata": {},
   "source": [
    "![tabeladbb](images/tabeladb.png)"
   ]
  },
  {
   "cell_type": "markdown",
   "metadata": {},
   "source": [
    "![cenarios](images/cenarios.png)"
   ]
  },
  {
   "cell_type": "markdown",
   "metadata": {},
   "source": [
    "# Vamos usar o ChromaDB"
   ]
  },
  {
   "cell_type": "markdown",
   "metadata": {},
   "source": [
    "O ChromaDB é um banco de dados vetorial open-source que armazena e busca documentos vetorizados com base em similaridade semântica.\n",
    "\n",
    "👉 Ele funciona como um “banco de dados de significados”, em vez de palavras exatas.\n",
    "\n",
    "Imagine que você tem uma FAQ com dezenas de perguntas/respostas, mas o usuário escreve a dúvida com outras palavras.\n",
    "\n",
    "💡 Com o ChromaDB, você pode vetorizar essas perguntas e permitir que a IA encontre a resposta certa com base no significado, não nas palavras.\n",
    "\n"
   ]
  },
  {
   "cell_type": "markdown",
   "metadata": {},
   "source": [
    "### ✅ Passo a Passo: Como funciona o ChromaDB na prática\n",
    "\n",
    "#### 🥇 Etapa 1: Instalação\n",
    "```bash\n",
    "pip install chromadb langchain\n",
    "```\n",
    "\n",
    "\n",
    "#### 🥈 Etapa 2: O que é necessário para usar o ChromaDB com LangChain?\n",
    "\n",
    "![cromaneed](images/cromaneed.png)\n",
    "\n"
   ]
  },
  {
   "cell_type": "markdown",
   "metadata": {},
   "source": [
    "\n",
    "#### 🥉 Etapa 3: Criando o Banco Vetorial com ChromaDB\n"
   ]
  },
  {
   "cell_type": "markdown",
   "metadata": {},
   "source": [
    "📁 Suponha que você tenha um documento de conhecimento:"
   ]
  },
  {
   "cell_type": "code",
   "execution_count": null,
   "metadata": {},
   "outputs": [],
   "source": [
    "from langchain.docstore.document import Document\n",
    "\n",
    "documentos = [\n",
    "    Document(page_content=\"O prazo para reembolso é de até 7 dias úteis.\"),\n",
    "    Document(page_content=\"Nosso horário de atendimento é de segunda a sexta, das 9h às 18h.\"),\n",
    "    Document(page_content=\"O suporte pode ser contatado via suporte@empresa.com.br\"),\n",
    "]\n"
   ]
  },
  {
   "cell_type": "markdown",
   "metadata": {},
   "source": [
    "🔡 Vetorizando os documentos"
   ]
  },
  {
   "cell_type": "code",
   "execution_count": 10,
   "metadata": {},
   "outputs": [],
   "source": [
    "from langchain.embeddings import OllamaEmbeddings  # ou OpenAIEmbeddings HuggingFaceEmbeddings\n",
    "embeddings = OllamaEmbeddings(model=\"mistral\")\n"
   ]
  },
  {
   "cell_type": "markdown",
   "metadata": {},
   "source": [
    "💾 Criando o VectorStore com Chroma"
   ]
  },
  {
   "cell_type": "code",
   "execution_count": 11,
   "metadata": {},
   "outputs": [],
   "source": [
    "from langchain.vectorstores import Chroma\n",
    "\n",
    "vectorstore = Chroma.from_documents(\n",
    "    documentos,\n",
    "    embedding=embeddings,\n",
    "    persist_directory=\"./meu_banco_chroma\"\n",
    ")\n"
   ]
  },
  {
   "cell_type": "markdown",
   "metadata": {},
   "source": [
    "📌 O Chroma agora criou uma base vetorial persistente em disco!"
   ]
  },
  {
   "cell_type": "markdown",
   "metadata": {},
   "source": [
    "#### 🧪 Etapa 4: Consultando o banco com uma pergunta\n"
   ]
  },
  {
   "cell_type": "markdown",
   "metadata": {},
   "source": [
    "Pergunta de exemplo: \n",
    "\n",
    "```python\n",
    "pergunta = \"Como faço para pedir reembolso?\"\n",
    "```\n"
   ]
  },
  {
   "cell_type": "markdown",
   "metadata": {},
   "source": [
    "Buscar documentos similares:\n",
    "\n",
    "```python\n",
    "resultados = vectorstore.similarity_search(pergunta, k=2)\n",
    "\n",
    "for doc in resultados:\n",
    "    print(doc.page_content)\n",
    "\n",
    "```\n",
    "\n",
    "💡 O Chroma retorna os documentos mais parecidos em significado, não em palavras!\n",
    "\n"
   ]
  },
  {
   "cell_type": "code",
   "execution_count": 12,
   "metadata": {},
   "outputs": [
    {
     "name": "stdout",
     "output_type": "stream",
     "text": [
      "O prazo para reembolso é de até 7 dias úteis.\n",
      "Nosso horário de atendimento é de segunda a sexta, das 9h às 18h.\n"
     ]
    }
   ],
   "source": [
    "pergunta = \"Como faço para pedir reembolso?\"\n",
    "\n",
    "resultados = vectorstore.similarity_search(pergunta, k=2)\n",
    "\n",
    "for doc in resultados:\n",
    "    print(doc.page_content)\n"
   ]
  },
  {
   "cell_type": "markdown",
   "metadata": {},
   "source": [
    "#### 🧠 Etapa 5: Integrando com um modelo de IA (RAG)\n",
    "\n",
    "Agora que temos os documentos mais relevantes, vamos pedir a uma IA que gere uma resposta com base neles.\n",
    "\n"
   ]
  },
  {
   "cell_type": "code",
   "execution_count": 13,
   "metadata": {},
   "outputs": [
    {
     "name": "stderr",
     "output_type": "stream",
     "text": [
      "C:\\Users\\Eric\\AppData\\Local\\Temp\\ipykernel_9060\\381921294.py:5: LangChainDeprecationWarning: The class `Ollama` was deprecated in LangChain 0.3.1 and will be removed in 1.0.0. An updated version of the class exists in the :class:`~langchain-ollama package and should be used instead. To use it run `pip install -U :class:`~langchain-ollama` and import as `from :class:`~langchain_ollama import OllamaLLM``.\n",
      "  llm = Ollama(model=\"mistral\", temperature=0)\n",
      "C:\\Users\\Eric\\AppData\\Local\\Temp\\ipykernel_9060\\381921294.py:14: LangChainDeprecationWarning: The method `Chain.run` was deprecated in langchain 0.1.0 and will be removed in 1.0. Use :meth:`~invoke` instead.\n",
      "  resposta = qa.run(\"Como posso solicitar reembolso?\")\n",
      "Number of requested results 4 is greater than number of elements in index 3, updating n_results = 3\n"
     ]
    },
    {
     "name": "stdout",
     "output_type": "stream",
     "text": [
      " Você pode solicitar o reembolso enviando um email para o endereço de suporte da empresa, que é suporte@empresa.com. Certifique-se de fazer isso dentro do prazo de 7 dias úteis após a data em que foi realizado o pagamento.\n"
     ]
    }
   ],
   "source": [
    "from langchain.chains import RetrievalQA\n",
    "from langchain_community.llms import Ollama  # modelo local via Ollama\n",
    "\n",
    "# Inicializa o modelo local Mistral via Ollama\n",
    "llm = Ollama(model=\"mistral\", temperature=0)\n",
    "\n",
    "# Cria a cadeia de perguntas e respostas\n",
    "qa = RetrievalQA.from_chain_type(\n",
    "    llm=llm,\n",
    "    retriever=vectorstore.as_retriever()\n",
    ")\n",
    "\n",
    "# Faz a pergunta\n",
    "resposta = qa.run(\"Como posso solicitar reembolso?\")\n",
    "print(resposta)\n"
   ]
  },
  {
   "cell_type": "markdown",
   "metadata": {},
   "source": [
    "🧱 Resumo de Componentes Chave do ChromaDB\n",
    "\n",
    "![resumo](images/resumo.png)"
   ]
  },
  {
   "cell_type": "markdown",
   "metadata": {},
   "source": [
    "## Como fazer para inserir documentos para serem vetorizados?"
   ]
  },
  {
   "cell_type": "markdown",
   "metadata": {},
   "source": [
    "É possível transformar arquivos como PDF, Word, TXT e até HTML em vetores para o ChromaDB, e você pode fazer isso de forma manual via código ou usando loaders automáticos do LangChain.\n",
    "\n",
    "LangChain tem loaders prontos para arquivos como:\n",
    "\n",
    "![loaders](images/loaders.png)\n",
    "\n"
   ]
  },
  {
   "cell_type": "markdown",
   "metadata": {},
   "source": [
    "### PDF → vetores no Chroma\n",
    "\n"
   ]
  },
  {
   "cell_type": "code",
   "execution_count": null,
   "metadata": {},
   "outputs": [],
   "source": [
    "from langchain.document_loaders import PyPDFLoader\n",
    "from langchain.text_splitter import CharacterTextSplitter\n",
    "from langchain.embeddings import OpenAIEmbeddings\n",
    "from langchain.vectorstores import Chroma\n",
    "\n",
    "# 1. Carregando o PDF\n",
    "loader = PyPDFLoader(\"politica_reembolso.pdf\")\n",
    "documentos = loader.load()\n",
    "\n",
    "# 2. Separando o conteúdo em blocos pequenos (chunking)\n",
    "splitter = CharacterTextSplitter(chunk_size=500, chunk_overlap=50)\n",
    "blocos = splitter.split_documents(documentos)\n",
    "\n",
    "# 3. Vetorizando e salvando no Chroma\n",
    "vectorstore = Chroma.from_documents(\n",
    "    documentos=blocos,\n",
    "    embedding=OpenAIEmbeddings(),\n",
    "    persist_directory=\"./meu_banco_vetorial\"\n",
    ")\n",
    "\n"
   ]
  },
  {
   "cell_type": "markdown",
   "metadata": {},
   "source": [
    "## ⚖️ Comparando: Inserir via Código vs Arquivos Carregados\n",
    "\n",
    "![comparativo](images/comparativo.png)\n",
    "\n"
   ]
  },
  {
   "cell_type": "markdown",
   "metadata": {},
   "source": [
    "## 🚦 Quando usar cada abordagem?\n",
    "\n",
    "![comparativo2](images/comparativo2.png)"
   ]
  },
  {
   "cell_type": "markdown",
   "metadata": {},
   "source": [
    "### 💡 Dica Extra: Combinando os dois métodos\n",
    "\n",
    "Você pode:\n",
    "\n",
    "- Criar uma base com alguns textos no código.\n",
    "- Acrescentar arquivos reais (PDF, CSV, etc).\n",
    "- Misturar tudo antes de vetorizar."
   ]
  },
  {
   "cell_type": "code",
   "execution_count": null,
   "metadata": {},
   "outputs": [],
   "source": [
    "documentos_combinados = textos_do_codigo + pdfs_carregados\n",
    "vectorstore = Chroma.from_documents(documentos_combinados, OpenAIEmbeddings())\n"
   ]
  },
  {
   "cell_type": "markdown",
   "metadata": {},
   "source": [
    "## Vamos testar a vetorização de coumentos:"
   ]
  },
  {
   "cell_type": "markdown",
   "metadata": {},
   "source": [
    "### 1. RAG com ChromaDB\n",
    "\n",
    "📄 PDF fictício de uma política de reembolso da empresa \"Infinity Tech\".\n",
    "\n",
    "🧠 Script Python que:\n",
    "\n",
    "Carrega o PDF.\n",
    "\n",
    "Divide em blocos de texto (chunking).\n",
    "\n",
    "Vetoriza os blocos com embeddings.\n",
    "\n",
    "Armazena tudo no ChromaDB.\n",
    "\n",
    "🧪 Atividade prática para os alunos, com perguntas para testar o RAG."
   ]
  },
  {
   "cell_type": "markdown",
   "metadata": {},
   "source": [
    "### 2. Script Python – Carregando e Vetorizando o PDF"
   ]
  },
  {
   "cell_type": "code",
   "execution_count": null,
   "metadata": {},
   "outputs": [],
   "source": [
    "!pip install pypdf"
   ]
  },
  {
   "cell_type": "code",
   "execution_count": 19,
   "metadata": {},
   "outputs": [
    {
     "name": "stdout",
     "output_type": "stream",
     "text": [
      "Base vetorial criada com sucesso!\n"
     ]
    }
   ],
   "source": [
    "from langchain.document_loaders import PyPDFLoader\n",
    "from langchain.text_splitter import CharacterTextSplitter\n",
    "from langchain.embeddings import OllamaEmbeddings\n",
    "from langchain.vectorstores import Chroma\n",
    "\n",
    "# 1. Carregar o PDF\n",
    "loader = PyPDFLoader(\"politica_reembolso_infinitytech.pdf\")\n",
    "documentos = loader.load()\n",
    "\n",
    "# 2. Dividir em blocos (chunking)\n",
    "splitter = CharacterTextSplitter(chunk_size=300, chunk_overlap=50)\n",
    "blocos = splitter.split_documents(documentos)\n",
    "\n",
    "# 3. Vetorizar com OpenAI embeddings e salvar no ChromaDB\n",
    "vectorstore = Chroma.from_documents(\n",
    "    documents=blocos,\n",
    "    embedding=OllamaEmbeddings(model=\"mistral\"),  # ou HuggingFaceEmbeddings()\n",
    "    persist_directory=\"./chroma_db_infinity\"\n",
    ")\n",
    "\n",
    "print(\"Base vetorial criada com sucesso!\")\n"
   ]
  },
  {
   "cell_type": "markdown",
   "metadata": {},
   "source": [
    "### 3. Script de Consulta\n",
    "\n"
   ]
  },
  {
   "cell_type": "code",
   "execution_count": 21,
   "metadata": {},
   "outputs": [
    {
     "name": "stderr",
     "output_type": "stream",
     "text": [
      "Number of requested results 4 is greater than number of elements in index 2, updating n_results = 2\n"
     ]
    },
    {
     "name": "stdout",
     "output_type": "stream",
     "text": [
      "🧠 Resposta:  Para pedir uma segunda via do boleto, você precisa entrar em contato com o nosso suporte de atendimento. Você pode enviar um e-mail para [suporte@infinitytech.com](mailto:suporte@infinitytech.com) com a solicitação específica, incluindo o número do pedido. O time de atendimento será feliz em ajudar você.\n"
     ]
    }
   ],
   "source": [
    "from langchain.chains import ConversationalRetrievalChain\n",
    "\n",
    "qa = ConversationalRetrievalChain.from_llm(\n",
    "    llm=llm,\n",
    "    retriever=vectorstore.as_retriever(),\n",
    ")\n",
    "\n",
    "# 7. Consulta\n",
    "pergunta = \"Como posso pedir a segunda via do boleto?\"\n",
    "resposta = qa.invoke({\n",
    "    \"question\": pergunta,\n",
    "    \"chat_history\":[]\n",
    "})\n",
    "print(\"🧠 Resposta:\", resposta[\"answer\"])\n",
    "\n",
    "\n",
    "# from langchain.chains import RetrievalQA\n",
    "# from langchain.chat_models import ChatOpenAI\n",
    "\n",
    "# qa = RetrievalQA.from_chain_type(\n",
    "#     llm=ChatOpenAI(openai_api_key=\"SUA_API_KEY\"),\n",
    "#     retriever=vectorstore.as_retriever()\n",
    "# )\n",
    "\n",
    "# pergunta = \"Como posso pedir um reembolso?\"\n",
    "# resposta = qa.run(pergunta)\n",
    "# print(\"Resposta do chatbot:\", resposta)\n"
   ]
  },
  {
   "cell_type": "markdown",
   "metadata": {},
   "source": [
    "## Como estruturar um PDF ideal para uso em RAG (Chatbot IA)\n",
    "\n",
    "Uma das principais dores de quem trabalha com RAG é receber PDFs mal formatados, com muito ruído ou estrutura desorganizada, o que prejudica a vetorização e a recuperação de informações.\n",
    "\n",
    "Você pode resolver isso criando um modelo-padrão de estrutura de PDF, com boas práticas e instruções claras para o cliente preencher. Vamos fazer isso agora!\n",
    "\n",
    "📌 Objetivo:\n",
    "\n",
    "Orientar seu cliente a montar um PDF limpo, bem dividido e estruturado, que facilite a vetorização com ferramentas como LangChain + ChromaDB."
   ]
  },
  {
   "cell_type": "markdown",
   "metadata": {},
   "source": [
    "## 📄 Modelo de Estrutura Padrão do PDF\n",
    "\n",
    "#### 1 Use Títulos Claros e Numerados\n",
    "Evite blocos gigantes de texto. Use seções com numeração.\n"
   ]
  },
  {
   "cell_type": "markdown",
   "metadata": {},
   "source": [
    "```bash\n",
    "1. SOBRE A EMPRESA\n",
    "A Infinity Tech é uma empresa especializada em soluções digitais...\n",
    "\n",
    "2. POLÍTICA DE REEMBOLSO\n",
    "2.1 O cliente tem até 7 dias úteis para solicitar reembolso.\n",
    "2.2 O reembolso será feito via o mesmo método de pagamento.\n",
    "\n",
    "3. CONTATO\n",
    "3.1 E-mail: suporte@infinitytech.com.br\n",
    "3.2 Telefone: (11) 4000-1234\n",
    "```\n"
   ]
  },
  {
   "cell_type": "markdown",
   "metadata": {},
   "source": [
    "#### 2 Não misture temas\n",
    "\n",
    "✅ Use 1 tema por parágrafo.\n",
    "❌ Não agrupe vários assuntos no mesmo bloco.\n",
    "Isso ajuda o RAG a dividir corretamente os chunks."
   ]
  },
  {
   "cell_type": "markdown",
   "metadata": {},
   "source": [
    "#### 3 Evite elementos gráficos\n",
    "\n",
    "❌ Tabelas com muitas colunas.\n",
    "❌ Imagens com informações importantes.\n",
    "✅ Texto plano e estruturado é mais confiável para extração."
   ]
  },
  {
   "cell_type": "markdown",
   "metadata": {},
   "source": [
    "#### 4 Use frases completas\n",
    "\n",
    "Evite frases curtas tipo bullet points soltos.\n",
    "\n",
    "```bash\n",
    "✅ O cliente deve enviar o comprovante por e-mail para dar início ao processo de troca.\n",
    "❌ Enviar comprovante. E-mail. Troca.\n",
    "```\n",
    "\n"
   ]
  },
  {
   "cell_type": "markdown",
   "metadata": {},
   "source": [
    "#### 5 Dê preferência a formatos editáveis\n",
    "\n",
    "Se possível, peça o conteúdo em .docx ou .txt para facilitar o pré-processamento.\n",
    "Você pode converter para PDF posteriormente com controle.\n",
    "\n",
    "\n",
    "📝 Texto de instrução para enviar ao cliente\n",
    "\n",
    "```bash\n",
    "Prezado(a),\n",
    "Para que possamos integrar suas informações ao nosso sistema de IA com maior precisão e eficiência, solicitamos que o documento enviado atenda ao seguinte modelo:\n",
    "\n",
    "Use títulos e subtítulos numerados para cada tema.\n",
    "\n",
    "Mantenha os textos em blocos coerentes, com um tópico por parágrafo.\n",
    "\n",
    "Evite gráficos ou tabelas complexas.\n",
    "\n",
    "Use frases completas, evite anotações soltas.\n",
    "\n",
    "Envie preferencialmente em .docx, .txt ou .pdf gerado a partir de texto puro (não escaneado).\n",
    "\n",
    "Você pode seguir o modelo que enviamos como base:\n",
    "(anexe o PDF de exemplo que posso gerar para você agora)"
   ]
  }
 ],
 "metadata": {
  "kernelspec": {
   "display_name": "Python 3",
   "language": "python",
   "name": "python3"
  },
  "language_info": {
   "codemirror_mode": {
    "name": "ipython",
    "version": 3
   },
   "file_extension": ".py",
   "mimetype": "text/x-python",
   "name": "python",
   "nbconvert_exporter": "python",
   "pygments_lexer": "ipython3",
   "version": "3.12.9"
  }
 },
 "nbformat": 4,
 "nbformat_minor": 2
}
