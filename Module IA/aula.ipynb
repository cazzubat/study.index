{
 "cells": [
  {
   "cell_type": "markdown",
   "metadata": {},
   "source": [
    "# Inteligência Artificial e Machine Learning na Automação"
   ]
  },
  {
   "cell_type": "markdown",
   "metadata": {},
   "source": [
    "## O que é Inteligência Artificial e como ela se relaciona com a automação."
   ]
  },
  {
   "cell_type": "markdown",
   "metadata": {},
   "source": [
    "A inteligência artificial (IA) é a simulação da inteligência humana por máquinas, sistemas computacionais e algoritmos. Seu objetivo é permitir que sistemas executem tarefas que normalmente exigiriam inteligência humana.\n",
    "\n",
    "A IA pode incluir:\n",
    "\n",
    "## Aprendizado de máquina (Machine Learning) – Sistemas que aprendem padrões e melhoram com o tempo.\n",
    "\n",
    "- O Netflix e o Spotify usam IA para sugerir filmes, séries e músicas com base no seu histórico de uso.\n",
    "\n",
    "- Bancos como Itaú e Bradesco usam Machine Learning para detectar padrões de fraudes em transações financeiras.\n",
    "\n",
    "## Processamento de linguagem natural (NLP) – Compreensão e geração de texto e fala.\n",
    "\n",
    "- Alexa, Siri e Google Assistant entendem comandos de voz e executam ações.\n",
    "- Google Tradutor e DeepL utilizam IA para traduzir textos entre diferentes idiomas.\n",
    "\n",
    "## Visão computacional – Identificação e interpretação de imagens e vídeos.\n",
    "\n",
    "- O Face ID da Apple e sistemas de segurança reconhecem rostos para desbloquear dispositivos ou permitir acesso.\n",
    "\n",
    "- IA em hospitais analisa radiografias e tomografias para identificar câncer e doenças pulmonares.\n",
    "\n",
    "## Tomada de decisões – Algoritmos que analisam dados e sugerem ações.\n",
    "\n",
    "- Tesla e Waymo usam IA para tomar decisões em tempo real sobre direção, velocidade e obstáculos.\n",
    "\n",
    "- Plataformas como XP Investimentos e Nubank utilizam IA para recomendar investimentos baseados no perfil do usuário."
   ]
  },
  {
   "cell_type": "markdown",
   "metadata": {},
   "source": [
    "## Machine Learning na prática: algoritmos básicos para automação."
   ]
  },
  {
   "cell_type": "markdown",
   "metadata": {},
   "source": [
    "Machine Learning (Aprendizado de Máquina) é uma subárea da Inteligência Artificial (IA) que permite que computadores aprendam padrões a partir de dados e tomem decisões sem serem explicitamente programados.\n",
    "\n",
    "Em vez de seguir regras fixas criadas por programadores, os algoritmos de Machine Learning ajustam seus comportamentos com base em experiência (dados históricos), melhorando conforme recebem mais informações.\n",
    "\n",
    "### Como Funciona?\n",
    "\n",
    "- Coleta de Dados – O sistema recebe um conjunto grande de dados (ex: imagens, textos, transações financeiras).\n",
    "\n",
    "- Treinamento – O algoritmo analisa os dados, identifica padrões e aprende a fazer previsões.\n",
    "\n",
    "- Teste e Ajuste – O modelo treinado é testado em novos dados para verificar sua precisão.\n",
    "Predição – O modelo já treinado pode ser usado para prever novas situações.\n",
    "\n"
   ]
  },
  {
   "cell_type": "markdown",
   "metadata": {},
   "source": [
    "### Tipos de Machine Learning:\n",
    "\n",
    "### Aprendizado Supervisionado\n",
    "\n",
    "O algoritmo aprende com dados rotulados (onde as respostas corretas são conhecidas).\n",
    "\n",
    "Exemplo:\n",
    "\n",
    "- Um modelo treinado com imagens de gatos e cachorros identificadas corretamente pode aprender a reconhecer novos gatos e cachorros.\n",
    "\n",
    "### Aprendizado Não Supervisionado\n",
    "\n",
    "O algoritmo recebe dados sem rótulos e tenta encontrar padrões sozinho.\n",
    "\n",
    "Exemplo:\n",
    "\n",
    "- Segmentação de clientes em um e-commerce (ex: identificar perfis de consumidores com base no comportamento de compra).\n",
    "\n",
    "### Aprendizado por Reforço\n",
    "\n",
    "O sistema aprende por tentativa e erro, recebendo recompensas por decisões corretas.\n",
    "\n",
    "Exemplo:\n",
    "\n",
    "- Um robô aprendendo a andar ou um carro autônomo tomando decisões no trânsito.\n",
    "\n",
    "\n",
    "\n",
    "\n",
    "### E o aprendizado do CHAT GPT?\n",
    "\n",
    "o modelo de Machine Learning usado por LLM's como o Chat-GPT é baseado em _Aprendizado Supervisionado_, _Aprendizado Não Supervisionado_ e _Aprendizado por Reforço_, combinando também conceitos avançados de aprendizado profundo (_Deep Learning_). \n",
    "\n",
    "\n",
    "<span style=\"color:red\">*_Aprendizado Supervisionado_*</span> \n",
    "\n",
    "1. Durante o treinamento, a LLM recebe milhões de textos para aprender estrutura gramatical, contexto e conhecimento factual.\n",
    "\n",
    "2. O modelo é treinado para prever a próxima palavra em uma sequência de texto, com base em um conjunto de dados de treinamento.\n",
    "\n",
    "\n",
    "<span style=\"color:red\">*_Aprendizado Não Supervisionado_*</span>  \n",
    "\n",
    "1. Se um usuário faz perguntas repetitivas sobre um tema específico, o LLM  adapta o contexto para reconhecer esse padrão.\n",
    "\n",
    "2. O LLM sugere informações relevantes com base nas interações.\n",
    "\n",
    "\n",
    "<span style=\"color:red\">*_Aprendizado por Reforço (Reinforcement Learning from Human Feedback - RLHF)_*</span>  \n",
    "\n",
    "Além do treinamento inicial, o LLM é refinado com um processo chamado Reinforcement Learning from Human Feedback (RLHF), no qual humanos avaliaram minhas respostas para me ensinar quais eram mais úteis e alinhadas às expectativas.\n",
    "\n",
    "1. Se um humano avaliador classifica minha resposta como boa, recebo \"recompensa\" e ajusto meu modelo para responder melhor no futuro.\n",
    "\n",
    "2. Se uma resposta for ruim, meu modelo aprende a evitar esse tipo de erro.\n",
    "\n",
    "OBS.: O termo \"recompensa\" se refere a um feedback positivo que um modelo recebe quando toma uma decisão correta ou produz um resultado desejado.\n",
    "\n",
    "\n",
    "\n",
    "\n",
    "<span style=\"color:red\">*_Deep Learning (Redes Neurais)_*</span>  \n",
    "\n",
    "O Chat-GPT é baseado em um modelo de redes neurais profundas chamado Transformers, especificamente GPT-4, que utiliza milhões de neurônios artificiais interconectados para prever padrões linguísticos e gerar textos coerentes.\n",
    "\n",
    "\n"
   ]
  },
  {
   "cell_type": "markdown",
   "metadata": {},
   "source": [
    "## Criando uma automação simples baseada em IA (exemplo prático)."
   ]
  },
  {
   "cell_type": "markdown",
   "metadata": {},
   "source": [
    "### Agora, vamos criar um modelo simples de Machine Learning para automatizar uma tarefa!\n",
    "\n",
    "📌 Objetivo: Criar um modelo que classifica mensagens como Spam ou Não Spam."
   ]
  },
  {
   "cell_type": "code",
   "execution_count": null,
   "metadata": {},
   "outputs": [],
   "source": [
    "# Importando bibliotecas necessárias\n",
    "from sklearn.feature_extraction.text import CountVectorizer\n",
    "from sklearn.naive_bayes import MultinomialNB\n",
    "\n",
    "# Dados de exemplo\n",
    "mensagens = [\"Promoção imperdível, clique aqui!\",\n",
    "             \"Oi, tudo bem?\",\n",
    "             \"Ganhe dinheiro rápido, sem esforço!\",\n",
    "             \"Sua conta foi atualizada com sucesso.\"]\n",
    "\n",
    "rotulos = [\"spam\", \"não spam\", \"spam\", \"não spam\"]  # Rótulos das mensagens\n",
    "\n",
    "# Convertendo texto para números\n",
    "vectorizer = CountVectorizer()\n",
    "X = vectorizer.fit_transform(mensagens)\n",
    "\n",
    "# Criando o modelo\n",
    "modelo = MultinomialNB()\n",
    "modelo.fit(X, rotulos)\n",
    "\n",
    "# Testando uma nova mensagem\n",
    "nova_mensagem = [\"Você foi sorteado, clique aqui para receber seu prêmio!\"]\n",
    "X_novo = vectorizer.transform(nova_mensagem)\n",
    "previsao = modelo.predict(X_novo)\n",
    "\n",
    "print(f\"A mensagem foi classificada como: {previsao[0]}\")\n"
   ]
  },
  {
   "cell_type": "markdown",
   "metadata": {},
   "source": [
    "📌 Exemplo 2: Classificador de Sentimentos (Positivo ou Negativo)\n",
    "📌 Objetivo: Criar um modelo que analisa o sentimento de uma mensagem e classifica se ela é positiva ou negativa.\n",
    "📌 Aplicação no mundo real: Empresas usam essa técnica para analisar comentários de clientes e entender a satisfação dos usuários."
   ]
  },
  {
   "cell_type": "code",
   "execution_count": null,
   "metadata": {},
   "outputs": [],
   "source": [
    "# Importando bibliotecas\n",
    "from sklearn.feature_extraction.text import CountVectorizer\n",
    "from sklearn.naive_bayes import MultinomialNB\n",
    "\n",
    "# Dados de exemplo (frases de clientes)\n",
    "comentarios = [\"A entrega foi muito rápida, estou satisfeito!\",\n",
    "               \"O atendimento foi péssimo, não recomendo!\",\n",
    "               \"Produto de ótima qualidade, voltarei a comprar.\",\n",
    "               \"Demorou muito para chegar, experiência ruim.\"]\n",
    "\n",
    "# Rótulos das frases (positivo ou negativo)\n",
    "sentimentos = [\"positivo\", \"negativo\", \"positivo\", \"negativo\"]\n",
    "\n",
    "# Convertendo texto para números\n",
    "vectorizer = CountVectorizer()\n",
    "X = vectorizer.fit_transform(comentarios)\n",
    "\n",
    "# Criando e treinando o modelo\n",
    "modelo = MultinomialNB()\n",
    "modelo.fit(X, sentimentos)\n",
    "\n",
    "# Testando com um novo comentário\n",
    "novo_comentario = [\"O produto chegou no prazo e gostei muito!\"]\n",
    "X_novo = vectorizer.transform(novo_comentario)\n",
    "previsao = modelo.predict(X_novo)\n",
    "\n",
    "print(f\"O sentimento do comentário é: {previsao[0]}\")\n"
   ]
  },
  {
   "cell_type": "markdown",
   "metadata": {},
   "source": [
    "Exemplo 3: Detecção de Idioma (Português ou Inglês)\n",
    "📌 Objetivo: Criar um modelo que reconhece se uma frase está em português ou inglês.\n",
    "📌 Aplicação no mundo real: Sistemas de tradução automática como Google Tradutor e DeepL utilizam essa técnica para detectar idiomas antes de traduzir."
   ]
  },
  {
   "cell_type": "code",
   "execution_count": null,
   "metadata": {},
   "outputs": [],
   "source": [
    "# Importando bibliotecas\n",
    "from sklearn.feature_extraction.text import CountVectorizer\n",
    "from sklearn.naive_bayes import MultinomialNB\n",
    "\n",
    "# Frases de exemplo em diferentes idiomas\n",
    "frases = [\"Olá, como você está?\",\n",
    "          \"Good morning, how are you?\",\n",
    "          \"Hoje está um belo dia!\",\n",
    "          \"I love programming and artificial intelligence.\"]\n",
    "\n",
    "# Rótulos das frases (idioma detectado)\n",
    "idiomas = [\"português\", \"inglês\", \"português\", \"inglês\"]\n",
    "\n",
    "# Convertendo texto para números\n",
    "vectorizer = CountVectorizer()\n",
    "X = vectorizer.fit_transform(frases)\n",
    "\n",
    "# Criando e treinando o modelo\n",
    "modelo = MultinomialNB()\n",
    "modelo.fit(X, idiomas)\n",
    "\n",
    "# Testando com uma nova frase\n",
    "nova_frase = [\"I am learning Python and AI.\"]\n",
    "X_novo = vectorizer.transform(nova_frase)\n",
    "previsao = modelo.predict(X_novo)\n",
    "\n",
    "print(f\"A frase está escrita em: {previsao[0]}\")\n"
   ]
  }
 ],
 "metadata": {
  "kernelspec": {
   "display_name": "Python 3",
   "language": "python",
   "name": "python3"
  },
  "language_info": {
   "codemirror_mode": {
    "name": "ipython",
    "version": 3
   },
   "file_extension": ".py",
   "mimetype": "text/x-python",
   "name": "python",
   "nbconvert_exporter": "python",
   "pygments_lexer": "ipython3",
   "version": "3.12.1"
  }
 },
 "nbformat": 4,
 "nbformat_minor": 2
}
